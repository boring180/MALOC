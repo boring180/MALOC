{
 "cells": [
  {
   "cell_type": "code",
   "execution_count": 1,
   "id": "d3e87313",
   "metadata": {},
   "outputs": [],
   "source": [
    "import os\n",
    "\n",
    "path = \"output\"\n",
    "\n",
    "for file in os.listdir(path):\n",
    "    os.remove(os.path.join(path, file))\n"
   ]
  }
 ],
 "metadata": {
  "kernelspec": {
   "display_name": "underwater_tracking",
   "language": "python",
   "name": "python3"
  },
  "language_info": {
   "codemirror_mode": {
    "name": "ipython",
    "version": 3
   },
   "file_extension": ".py",
   "mimetype": "text/x-python",
   "name": "python",
   "nbconvert_exporter": "python",
   "pygments_lexer": "ipython3",
   "version": "3.8.20"
  }
 },
 "nbformat": 4,
 "nbformat_minor": 5
}
